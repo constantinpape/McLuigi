{
 "cells": [
  {
   "cell_type": "code",
   "execution_count": 19,
   "metadata": {
    "collapsed": false
   },
   "outputs": [
    {
     "name": "stdout",
     "output_type": "stream",
     "text": [
      "2\n",
      "2\n",
      "3\n",
      "Total Number of Blocks: 12\n",
      "12\n",
      "(slice(0, 1044, None), slice(0, 1044, None), slice(0, 54, None))\n",
      "(slice(0, 1044, None), slice(0, 1044, None), slice(46, 104, None))\n",
      "(slice(0, 1044, None), slice(0, 1044, None), slice(96, 125, None))\n",
      "(slice(0, 1044, None), slice(1004, 1250, None), slice(0, 54, None))\n",
      "(slice(0, 1044, None), slice(1004, 1250, None), slice(46, 104, None))\n",
      "(slice(0, 1044, None), slice(1004, 1250, None), slice(96, 125, None))\n",
      "(slice(1004, 1250, None), slice(0, 1044, None), slice(0, 54, None))\n",
      "(slice(1004, 1250, None), slice(0, 1044, None), slice(46, 104, None))\n",
      "(slice(1004, 1250, None), slice(0, 1044, None), slice(96, 125, None))\n",
      "(slice(1004, 1250, None), slice(1004, 1250, None), slice(0, 54, None))\n",
      "(slice(1004, 1250, None), slice(1004, 1250, None), slice(46, 104, None))\n",
      "(slice(1004, 1250, None), slice(1004, 1250, None), slice(96, 125, None))\n"
     ]
    }
   ],
   "source": [
    "# Check tesselation with blocks\n",
    "\n",
    "import numpy as np\n",
    "\n",
    "# shape of whole block, subblocks, overlap\n",
    "shape = (1250, 1250, 125)\n",
    "block = (1024, 1024, 50)\n",
    "overlap = (20,20,4)\n",
    "\n",
    "sX = block[0]\n",
    "sY = block[1]\n",
    "sZ = block[2]\n",
    "\n",
    "oX = overlap[0]\n",
    "oY = overlap[1]\n",
    "oZ = overlap[2]\n",
    "\n",
    "nX = int( np.ceil( float( shape[0] )/ sX ) ) \n",
    "nY = int( np.ceil( float( shape[1] )/ sY ) )\n",
    "nZ = int( np.ceil( float( shape[2] )/ sZ ) )\n",
    "\n",
    "nBlocks = nX * nY * nZ\n",
    "\n",
    "print nX\n",
    "print nY\n",
    "print nZ\n",
    "\n",
    "print \"Total Number of Blocks:\", nBlocks\n",
    "\n",
    "slicings = []\n",
    "for x in xrange(nX):\n",
    "\n",
    "    # X range\n",
    "    startX = x * sX\n",
    "    if x != 0:\n",
    "        startX -= oX\n",
    "    endX = (x + 1) * sX + oX\n",
    "    if endX > shape[0]:\n",
    "        endX = shape[0]\n",
    "\n",
    "    for y in xrange(nY):\n",
    "\n",
    "        # Y range\n",
    "        startY = y * sY\n",
    "        if y != 0:\n",
    "            startY -= oY\n",
    "        endY = (y + 1) * sY + oY\n",
    "        if endY > shape[1]:\n",
    "            endY = shape[1]\n",
    "\n",
    "        for z in xrange(nZ):\n",
    "\n",
    "            # Z range\n",
    "            startZ = z * sZ\n",
    "            if z != 0:\n",
    "                startZ -= oZ\n",
    "            endZ = (z + 1) * sZ + oZ\n",
    "            if endZ > shape[2]:\n",
    "                endZ = shape[2]\n",
    "\n",
    "            slicings.append( np.s_[startX:endX,startY:endY,startZ:endZ] )\n",
    "\n",
    "print len(slicings)\n",
    "for s in slicings:\n",
    "    print s\n"
   ]
  },
  {
   "cell_type": "code",
   "execution_count": 2,
   "metadata": {
    "collapsed": true
   },
   "outputs": [],
   "source": []
  },
  {
   "cell_type": "code",
   "execution_count": null,
   "metadata": {
    "collapsed": true
   },
   "outputs": [],
   "source": []
  }
 ],
 "metadata": {
  "kernelspec": {
   "display_name": "Python 2",
   "language": "python",
   "name": "python2"
  },
  "language_info": {
   "codemirror_mode": {
    "name": "ipython",
    "version": 2
   },
   "file_extension": ".py",
   "mimetype": "text/x-python",
   "name": "python",
   "nbconvert_exporter": "python",
   "pygments_lexer": "ipython2",
   "version": "2.7.11"
  }
 },
 "nbformat": 4,
 "nbformat_minor": 0
}
